{
 "cells": [
  {
   "cell_type": "markdown",
   "metadata": {},
   "source": [
    "### Task 1"
   ]
  },
  {
   "cell_type": "markdown",
   "metadata": {},
   "source": [
    "#### 1.1 Write a Python Program to implement your own myreduce() function which works exactly like Python's built-in function reduce()"
   ]
  },
  {
   "cell_type": "code",
   "execution_count": 1,
   "metadata": {},
   "outputs": [
    {
     "name": "stdout",
     "output_type": "stream",
     "text": [
      "sum of all element in the list: 10\n",
      "Product of all element in a list is: 120\n"
     ]
    }
   ],
   "source": [
    "def myreduce(fun,seq):\n",
    "    if len(seq)<=1:\n",
    "        return \"sequence is empty or only 1 element\",seq\n",
    "    n=seq[0]\n",
    "    for i in seq[1:]:\n",
    "        n=fun(n,i)\n",
    "    return n\n",
    "\n",
    "print(\"sum of all element in the list:\",myreduce(lambda x,y:x+y,[1,2,3,4]))\n",
    "\n",
    "print(\"Product of all element in a list is:\",myreduce(lambda x,y:(x*y),[2,3,4,5]))"
   ]
  },
  {
   "cell_type": "markdown",
   "metadata": {},
   "source": [
    "### 1.2 Write a Python program to implement your own myfilter() function which works exactly like Python's built-in function filter()"
   ]
  },
  {
   "cell_type": "code",
   "execution_count": 2,
   "metadata": {},
   "outputs": [
    {
     "name": "stdout",
     "output_type": "stream",
     "text": [
      "Even Number are:  [2, 6, 8, 66]\n"
     ]
    }
   ],
   "source": [
    "def myfilter(fun,seq):\n",
    "    result=[]\n",
    "    for i in seq:\n",
    "        if fun(i)==True:\n",
    "            result.append(i)\n",
    "        else:\n",
    "            pass\n",
    "    return result\n",
    "\n",
    "print(\"Even Number are: \", myfilter(lambda x :x%2==0,[1,2,6,8,11,66,29]))        "
   ]
  },
  {
   "cell_type": "markdown",
   "metadata": {},
   "source": [
    "#### 2.Implement List comprehensions to produce the following lists.\n",
    "#### Write List comprehensions to produce the following Lists\n",
    "['A', 'C', 'A', 'D', 'G', 'I', ’L’, ‘ D’]\n",
    "\n",
    "['x', 'xx', 'xxx', 'xxxx', 'y', 'yy', 'yyy', 'yyyy', 'z', 'zz', 'zzz', 'zzzz']\n",
    "\n",
    "['x', 'y', 'z', 'xx', 'yy', 'zz', 'xx', 'yy', 'zz', 'xxxx', 'yyyy', 'zzzz']\n",
    "\n",
    "[[2], [3], [4], [3], [4], [5], [4], [5], [6]]\n",
    "\n",
    "[[2, 3, 4, 5], [3, 4, 5, 6], [4, 5, 6, 7], [5, 6, 7, 8]]\n",
    "\n",
    "[(1, 1), (2, 1), (3, 1), (1, 2), (2, 2), (3, 2), (1, 3), (2, 3), (3, 3)]"
   ]
  },
  {
   "cell_type": "code",
   "execution_count": 3,
   "metadata": {},
   "outputs": [
    {
     "name": "stdout",
     "output_type": "stream",
     "text": [
      "['A', 'C', 'A', 'D', 'G', 'I', 'L', 'D']\n"
     ]
    }
   ],
   "source": [
    "lst=\"ACADGILD\"\n",
    "print([x for x in lst])"
   ]
  },
  {
   "cell_type": "code",
   "execution_count": 4,
   "metadata": {},
   "outputs": [
    {
     "name": "stdout",
     "output_type": "stream",
     "text": [
      "['x', 'xx', 'xxx', 'xxxx', 'y', 'yy', 'yyy', 'yyyy', 'z', 'zz', 'zzz', 'zzzz']\n"
     ]
    }
   ],
   "source": [
    "lst=['x','y','z']\n",
    "print([i*j for i in lst  for j in range(1,5) ])"
   ]
  },
  {
   "cell_type": "code",
   "execution_count": 5,
   "metadata": {},
   "outputs": [
    {
     "name": "stdout",
     "output_type": "stream",
     "text": [
      "['x', 'y', 'z', 'xx', 'yy', 'zz', 'xxx', 'yyy', 'zzz', 'xxxx', 'yyyy', 'zzzz']\n"
     ]
    }
   ],
   "source": [
    "print([i*j for i in range(1,5) for j in lst])"
   ]
  },
  {
   "cell_type": "code",
   "execution_count": 6,
   "metadata": {},
   "outputs": [
    {
     "name": "stdout",
     "output_type": "stream",
     "text": [
      "[[2], [3], [4], [3], [4], [5], [4], [5], [6]]\n"
     ]
    }
   ],
   "source": [
    "List=[2,3,4]\n",
    "print([[i+j] for j in List for i in range(3) ])"
   ]
  },
  {
   "cell_type": "code",
   "execution_count": 7,
   "metadata": {},
   "outputs": [
    {
     "name": "stdout",
     "output_type": "stream",
     "text": [
      "[[2, 3, 4, 5], [3, 4, 5, 6], [4, 5, 6, 7], [5, 6, 7, 8]]\n"
     ]
    }
   ],
   "source": [
    "print([[i+j for i in range(4)] for j in [2,3,4,5]])"
   ]
  },
  {
   "cell_type": "code",
   "execution_count": 8,
   "metadata": {},
   "outputs": [
    {
     "name": "stdout",
     "output_type": "stream",
     "text": [
      "[(1, 1), (2, 1), (3, 1), (1, 2), (2, 2), (3, 2), (1, 3), (2, 3), (3, 3)]\n"
     ]
    }
   ],
   "source": [
    "List=[1,2,3]\n",
    "print([(j,i) for i in List for j in range(1,4)])"
   ]
  },
  {
   "cell_type": "code",
   "execution_count": 9,
   "metadata": {},
   "outputs": [
    {
     "name": "stdout",
     "output_type": "stream",
     "text": [
      "[(1, 1), (2, 1), (3, 1), (1, 2), (2, 2), (3, 2), (1, 3), (2, 3), (3, 3)]\n"
     ]
    }
   ],
   "source": [
    "List=[1,2,3]\n",
    "print([(j,i) for i in range(1,4) for j in List])"
   ]
  },
  {
   "cell_type": "markdown",
   "metadata": {},
   "source": [
    "### 3.Implement a function longestWord() that takes a list of words and returns the longest one."
   ]
  },
  {
   "cell_type": "code",
   "execution_count": 10,
   "metadata": {},
   "outputs": [
    {
     "name": "stdout",
     "output_type": "stream",
     "text": [
      "The longest word from the list of words: ['Dharmendar']\n",
      "The longest word from the list of words: ['Nice', 'Good']\n"
     ]
    }
   ],
   "source": [
    "def longestword(word):\n",
    "    max_len=len(max(word,key=len))\n",
    "    Result=[]\n",
    "    for i in word:\n",
    "        if len(i)==max_len:\n",
    "            Result.append(i)\n",
    "    print(\"The longest word from the list of words:\" , Result)\n",
    "longestword([\"Kheema\",\"sonika\", \"Dharmendar\",\"Jitender\" ])\n",
    "longestword([\"Nice\",\"Bad\",\"Sad\",\"Good\",  \"Bye\"])"
   ]
  },
  {
   "cell_type": "markdown",
   "metadata": {},
   "source": [
    "### Task 2:"
   ]
  },
  {
   "cell_type": "markdown",
   "metadata": {},
   "source": [
    "### 1.1 Write a Python Program(with class concepts) to find the area of the triangle using the below formula.\n",
    "#### area = (s*(s-a)*(s-b)*(s-c)) ** 0.5\n",
    "Function to take the length of the sides of triangle from user should be defined in the parent class and function to calculate the area should be defined in subclass."
   ]
  },
  {
   "cell_type": "code",
   "execution_count": 11,
   "metadata": {},
   "outputs": [
    {
     "name": "stdout",
     "output_type": "stream",
     "text": [
      "Enter First Side: 2\n",
      "Enter Second Side: 3\n",
      "Enter Third Side: 4\n",
      "Value of s is: 4.5\n",
      "Area of Triangle: 2.9047375096555625\n"
     ]
    }
   ],
   "source": [
    "class Triangle():\n",
    "    def __init__(self,a, b, c):\n",
    "        self.a=float(input(\"Enter First Side: \"))\n",
    "        self.b=float(input(\"Enter Second Side: \"))\n",
    "        self.c=float(input(\"Enter Third Side: \"))\n",
    "        \n",
    "class Area_triangle(Triangle):\n",
    "    def __init__(self,*args):\n",
    "        super(Area_triangle,self).__init__(*args)\n",
    "        \n",
    "    def area_t(self):\n",
    "    \n",
    "        s=(self.a+self.b+self.c)/2\n",
    "        print(\"Value of s is:\",s)\n",
    "        \n",
    "        area=(s*(s-self.a)*(s-self.b)*(s-self.c))**0.5\n",
    "        print(\"Area of Triangle:\",area)\n",
    "  \n",
    "\n",
    "t = Area_triangle(\"a\",\"b\",\"c\")\n",
    "t.area_t()    \n",
    "    "
   ]
  },
  {
   "cell_type": "markdown",
   "metadata": {},
   "source": [
    "### 1.2 Write a function filter_long_words() that takes a list of words and an integer n and returns the list of words that are longer than n."
   ]
  },
  {
   "cell_type": "code",
   "execution_count": 12,
   "metadata": {},
   "outputs": [
    {
     "name": "stdout",
     "output_type": "stream",
     "text": [
      "['Evening', 'Afternoon']\n"
     ]
    }
   ],
   "source": [
    "def filter_long_words(str,n):\n",
    "    word=[]\n",
    "    for i in str:\n",
    "        if len(i)>=n:\n",
    "            word.append(i)\n",
    "    print(word)\n",
    "  \n",
    "\n",
    "words=[\"Hello\",\"Good\", \"Evening\", \"Afternoon\"]\n",
    "filter_long_words(words,6)"
   ]
  },
  {
   "cell_type": "markdown",
   "metadata": {},
   "source": [
    "### 2.1 Write a Python program using function concept that maps list of words into a list of integers representing the lengths of the corresponding words.\n",
    "Hint: If a list [ ab,cde,erty] is passed on to the python function output should come as [2,3,4]\n",
    "Here 2,3 and 4 are the lengths of the words in the list."
   ]
  },
  {
   "cell_type": "code",
   "execution_count": 13,
   "metadata": {},
   "outputs": [
    {
     "data": {
      "text/plain": [
       "[2, 3, 4]"
      ]
     },
     "execution_count": 13,
     "metadata": {},
     "output_type": "execute_result"
    }
   ],
   "source": [
    "def lengths(word):\n",
    "    return list(map(lambda x:len(x),word))\n",
    "\n",
    "word= [\"ab\",\"cde\",\"erty\"] \n",
    "lengths(word)"
   ]
  },
  {
   "cell_type": "markdown",
   "metadata": {},
   "source": [
    "### 2.2 Write a Python function which takes a character (i.e. a string of length 1) and returns True if it is a vowel, False otherwise."
   ]
  },
  {
   "cell_type": "code",
   "execution_count": 14,
   "metadata": {},
   "outputs": [
    {
     "name": "stdout",
     "output_type": "stream",
     "text": [
      "True\n",
      "False\n",
      "True\n"
     ]
    }
   ],
   "source": [
    "def vowel_check(char):\n",
    "    return char.lower() in \"aeiou\"\n",
    "\n",
    "print(vowel_check(\"A\"))\n",
    "print(vowel_check(\"b\"))\n",
    "print(vowel_check(\"e\"))"
   ]
  },
  {
   "cell_type": "code",
   "execution_count": null,
   "metadata": {},
   "outputs": [],
   "source": []
  }
 ],
 "metadata": {
  "kernelspec": {
   "display_name": "Python 3",
   "language": "python",
   "name": "python3"
  },
  "language_info": {
   "codemirror_mode": {
    "name": "ipython",
    "version": 3
   },
   "file_extension": ".py",
   "mimetype": "text/x-python",
   "name": "python",
   "nbconvert_exporter": "python",
   "pygments_lexer": "ipython3",
   "version": "3.6.9"
  }
 },
 "nbformat": 4,
 "nbformat_minor": 4
}
